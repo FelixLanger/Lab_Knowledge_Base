{
 "cells": [
  {
   "cell_type": "markdown",
   "metadata": {},
   "source": [
    "# Parsing a GFF file, calculate and plot gene length\n",
    "\n",
    "This is short exercise that should help to apply and understand different concept in Python.\n",
    "\n",
    "Ideally you should be familar with.\n",
    "* file handle\n",
    "* for loops\n",
    "* spllitting of string\n",
    "* list indexing\n",
    "* Conditionals (if ... else)\n",
    "* Matplotlib"
   ]
  },
  {
   "cell_type": "code",
   "execution_count": null,
   "metadata": {
    "collapsed": true
   },
   "outputs": [],
   "source": [
    "import urllib.request\n",
    "urllib.request.urlretrieve(\"ftp://ftp.ncbi.nih.gov/genomes/archive/old_refseq/Bacteria/Acinetobacter_baumannii_1656_2_uid158677/NC_017162.gff\", \"NC_017162.gff\")"
   ]
  },
  {
   "cell_type": "code",
   "execution_count": null,
   "metadata": {
    "collapsed": true
   },
   "outputs": [],
   "source": [
    "gff_file_handle = open(\"NC_017162.gff\")\n",
    "\n",
    "for line in gff_file_handle:\n",
    "    print(line.strip())\n",
    "\n",
    "gff_file_handle.close()"
   ]
  },
  {
   "cell_type": "code",
   "execution_count": null,
   "metadata": {
    "collapsed": true
   },
   "outputs": [],
   "source": [
    "gff_file_handle = open(\"NC_017162.gff\")\n",
    "\n",
    "for line in gff_file_handle:\n",
    "    split_line = line.split(\"\\t\")\n",
    "    print(split_line)\n",
    "\n",
    "gff_file_handle.close()"
   ]
  },
  {
   "cell_type": "code",
   "execution_count": null,
   "metadata": {
    "collapsed": true
   },
   "outputs": [],
   "source": [
    "gff_file_handle = open(\"NC_017162.gff\")\n",
    "\n",
    "for line in gff_file_handle:\n",
    "    if not line.startswith(\"#\"):\n",
    "        split_line = line.split(\"\\t\")\n",
    "        print(split_line)\n",
    "gff_file_handle.close()"
   ]
  },
  {
   "cell_type": "code",
   "execution_count": null,
   "metadata": {
    "collapsed": true
   },
   "outputs": [],
   "source": [
    "gff_file_handle = open(\"NC_017162.gff\")\n",
    "\n",
    "for line in gff_file_handle:\n",
    "    if not line.startswith(\"#\"):\n",
    "        split_line = line.split(\"\\t\")\n",
    "        if split_line[2] == \"gene\":\n",
    "            print(split_line)\n",
    "gff_file_handle.close()"
   ]
  },
  {
   "cell_type": "code",
   "execution_count": null,
   "metadata": {
    "collapsed": true
   },
   "outputs": [],
   "source": [
    "gff_file_handle = open(\"NC_017162.gff\")\n",
    "\n",
    "for line in gff_file_handle:\n",
    "    if not line.startswith(\"#\"):\n",
    "        split_line = line.split(\"\\t\")\n",
    "        if split_line[2] == \"gene\":\n",
    "            start_position = int(split_line[3])\n",
    "            end_position = int(split_line[4])\n",
    "            print(end_position - start_position)\n",
    "gff_file_handle.close()"
   ]
  },
  {
   "cell_type": "code",
   "execution_count": null,
   "metadata": {
    "collapsed": true
   },
   "outputs": [],
   "source": [
    "gff_file_handle = open(\"NC_017162.gff\")\n",
    "\n",
    "gene_lengths = []\n",
    "\n",
    "for line in gff_file_handle:\n",
    "    if not line.startswith(\"#\"):\n",
    "        split_line = line.split(\"\\t\")\n",
    "        if split_line[2] == \"gene\":\n",
    "            start_position = int(split_line[3])\n",
    "            end_position = int(split_line[4])\n",
    "            current_gene_length = end_position - start_position\n",
    "            gene_lengths.append(current_gene_length)\n",
    "gff_file_handle.close()\n",
    "print(len(gene_lengths))\n",
    "print(\"\")\n",
    "print(gene_lengths)"
   ]
  },
  {
   "cell_type": "code",
   "execution_count": null,
   "metadata": {
    "collapsed": true
   },
   "outputs": [],
   "source": [
    "%matplotlib inline"
   ]
  },
  {
   "cell_type": "code",
   "execution_count": null,
   "metadata": {
    "collapsed": true
   },
   "outputs": [],
   "source": [
    "import matplotlib.pyplot as plt"
   ]
  },
  {
   "cell_type": "code",
   "execution_count": null,
   "metadata": {
    "collapsed": true
   },
   "outputs": [],
   "source": [
    "hist = plt.hist(gene_lengths)"
   ]
  },
  {
   "cell_type": "code",
   "execution_count": null,
   "metadata": {
    "collapsed": true
   },
   "outputs": [],
   "source": [
    "hist = plt.hist(gene_lengths, bins=100)"
   ]
  },
  {
   "cell_type": "code",
   "execution_count": null,
   "metadata": {
    "collapsed": true
   },
   "outputs": [],
   "source": [
    "hist = plt.hist(gene_lengths, bins=100)\n",
    "plt.xlabel(\"Gene length\")\n",
    "plt.ylabel(\"Frequency\")"
   ]
  },
  {
   "cell_type": "code",
   "execution_count": null,
   "metadata": {
    "collapsed": true
   },
   "outputs": [],
   "source": []
  }
 ],
 "metadata": {
  "kernelspec": {
   "display_name": "Python 3",
   "language": "python",
   "name": "python3"
  },
  "language_info": {
   "codemirror_mode": {
    "name": "ipython",
    "version": 3
   },
   "file_extension": ".py",
   "mimetype": "text/x-python",
   "name": "python",
   "nbconvert_exporter": "python",
   "pygments_lexer": "ipython3",
   "version": "3.6.3"
  }
 },
 "nbformat": 4,
 "nbformat_minor": 2
}
